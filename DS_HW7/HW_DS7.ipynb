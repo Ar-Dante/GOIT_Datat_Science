{
 "cells": [
  {
   "cell_type": "markdown",
   "id": "d354300f",
   "metadata": {},
   "source": [
    "# Домашня робота №7 \n"
   ]
  },
  {
   "cell_type": "markdown",
   "id": "98c8fe8a",
   "metadata": {},
   "source": [
    "#### Імпортуємо бібліотеки "
   ]
  },
  {
   "cell_type": "code",
   "execution_count": 39,
   "id": "f6196301",
   "metadata": {},
   "outputs": [],
   "source": [
    "import pandas as pd\n",
    "from surprise import Dataset, Reader\n",
    "from surprise.model_selection import train_test_split, cross_validate\n",
    "from surprise import SVD, SVDpp, NMF\n",
    "from surprise import accuracy\n",
    "from surprise.model_selection import GridSearchCV, RandomizedSearchCV\n",
    "from hyperopt import hp, fmin, tpe, Trials"
   ]
  },
  {
   "cell_type": "markdown",
   "id": "5cc3097c",
   "metadata": {},
   "source": [
    "#### Підготуємо датасет "
   ]
  },
  {
   "cell_type": "code",
   "execution_count": 37,
   "id": "028f3b00",
   "metadata": {},
   "outputs": [
    {
     "data": {
      "text/html": [
       "<div>\n",
       "<style scoped>\n",
       "    .dataframe tbody tr th:only-of-type {\n",
       "        vertical-align: middle;\n",
       "    }\n",
       "\n",
       "    .dataframe tbody tr th {\n",
       "        vertical-align: top;\n",
       "    }\n",
       "\n",
       "    .dataframe thead th {\n",
       "        text-align: right;\n",
       "    }\n",
       "</style>\n",
       "<table border=\"1\" class=\"dataframe\">\n",
       "  <thead>\n",
       "    <tr style=\"text-align: right;\">\n",
       "      <th></th>\n",
       "      <th>user_id</th>\n",
       "      <th>item_id</th>\n",
       "      <th>rating</th>\n",
       "      <th>timestamp</th>\n",
       "    </tr>\n",
       "  </thead>\n",
       "  <tbody>\n",
       "    <tr>\n",
       "      <th>0</th>\n",
       "      <td>196</td>\n",
       "      <td>242</td>\n",
       "      <td>3.0</td>\n",
       "      <td>881250949</td>\n",
       "    </tr>\n",
       "    <tr>\n",
       "      <th>1</th>\n",
       "      <td>186</td>\n",
       "      <td>302</td>\n",
       "      <td>3.0</td>\n",
       "      <td>891717742</td>\n",
       "    </tr>\n",
       "    <tr>\n",
       "      <th>2</th>\n",
       "      <td>22</td>\n",
       "      <td>377</td>\n",
       "      <td>1.0</td>\n",
       "      <td>878887116</td>\n",
       "    </tr>\n",
       "    <tr>\n",
       "      <th>3</th>\n",
       "      <td>244</td>\n",
       "      <td>51</td>\n",
       "      <td>2.0</td>\n",
       "      <td>880606923</td>\n",
       "    </tr>\n",
       "    <tr>\n",
       "      <th>4</th>\n",
       "      <td>166</td>\n",
       "      <td>346</td>\n",
       "      <td>1.0</td>\n",
       "      <td>886397596</td>\n",
       "    </tr>\n",
       "    <tr>\n",
       "      <th>...</th>\n",
       "      <td>...</td>\n",
       "      <td>...</td>\n",
       "      <td>...</td>\n",
       "      <td>...</td>\n",
       "    </tr>\n",
       "    <tr>\n",
       "      <th>99995</th>\n",
       "      <td>880</td>\n",
       "      <td>476</td>\n",
       "      <td>3.0</td>\n",
       "      <td>880175444</td>\n",
       "    </tr>\n",
       "    <tr>\n",
       "      <th>99996</th>\n",
       "      <td>716</td>\n",
       "      <td>204</td>\n",
       "      <td>5.0</td>\n",
       "      <td>879795543</td>\n",
       "    </tr>\n",
       "    <tr>\n",
       "      <th>99997</th>\n",
       "      <td>276</td>\n",
       "      <td>1090</td>\n",
       "      <td>1.0</td>\n",
       "      <td>874795795</td>\n",
       "    </tr>\n",
       "    <tr>\n",
       "      <th>99998</th>\n",
       "      <td>13</td>\n",
       "      <td>225</td>\n",
       "      <td>2.0</td>\n",
       "      <td>882399156</td>\n",
       "    </tr>\n",
       "    <tr>\n",
       "      <th>99999</th>\n",
       "      <td>12</td>\n",
       "      <td>203</td>\n",
       "      <td>3.0</td>\n",
       "      <td>879959583</td>\n",
       "    </tr>\n",
       "  </tbody>\n",
       "</table>\n",
       "<p>100000 rows × 4 columns</p>\n",
       "</div>"
      ],
      "text/plain": [
       "      user_id item_id  rating  timestamp\n",
       "0         196     242     3.0  881250949\n",
       "1         186     302     3.0  891717742\n",
       "2          22     377     1.0  878887116\n",
       "3         244      51     2.0  880606923\n",
       "4         166     346     1.0  886397596\n",
       "...       ...     ...     ...        ...\n",
       "99995     880     476     3.0  880175444\n",
       "99996     716     204     5.0  879795543\n",
       "99997     276    1090     1.0  874795795\n",
       "99998      13     225     2.0  882399156\n",
       "99999      12     203     3.0  879959583\n",
       "\n",
       "[100000 rows x 4 columns]"
      ]
     },
     "execution_count": 37,
     "metadata": {},
     "output_type": "execute_result"
    }
   ],
   "source": [
    "data = Dataset.load_builtin('ml-100k')\n",
    "reader = Reader(rating_scale=(1, 5))\n",
    "df = pd.DataFrame(data.raw_ratings, columns=['user_id', 'item_id', 'rating', 'timestamp'])\n",
    "data = Dataset.load_from_df(df[['user_id', 'item_id', 'rating']], reader)\n",
    "df"
   ]
  },
  {
   "cell_type": "markdown",
   "id": "f5519d86",
   "metadata": {},
   "source": [
    "#### Розділимо вибірку"
   ]
  },
  {
   "cell_type": "code",
   "execution_count": 8,
   "id": "b10e2579",
   "metadata": {},
   "outputs": [],
   "source": [
    "trainset, testset = train_test_split(data, test_size=0.2, random_state=42)"
   ]
  },
  {
   "cell_type": "markdown",
   "id": "ffce3950",
   "metadata": {},
   "source": [
    "#### Оберемо найкращі параметри"
   ]
  },
  {
   "cell_type": "code",
   "execution_count": 42,
   "id": "24298d4e",
   "metadata": {},
   "outputs": [
    {
     "name": "stdout",
     "output_type": "stream",
     "text": [
      "100%|████████████████████████████████████████████████| 50/50 [10:15<00:00, 12.31s/trial, best loss: 0.9442320731298286]\n",
      "Best parameters for NMF:\n",
      "{'biased_nmf': 0, 'lr_bi_nmf': 0.008129025753785673, 'lr_bu_nmf': 0.027399460741379694, 'n_epochs_nmf': 1, 'n_factors_nmf': 2, 'reg_pu_nmf': 0.08468010916047869, 'reg_qi_nmf': 0.09560446522744714}\n"
     ]
    }
   ],
   "source": [
    "from hyperopt import hp, fmin, tpe, Trials\n",
    "\n",
    "algo_spaces = {\n",
    "#     'SVD': {\n",
    "#         'n_factors': hp.choice('n_factors_svd', [50, 100, 150]),\n",
    "#         'n_epochs': hp.choice('n_epochs_svd', [10, 20, 30]),\n",
    "#         'lr_all': hp.uniform('lr_all_svd', 0.001, 0.1),\n",
    "#         'reg_all': hp.uniform('reg_all_svd', 0.01, 0.2),\n",
    "#         'random_state': 0\n",
    "#     },\n",
    "#      'SVDpp': {\n",
    "#         'n_factors': hp.choice('n_factors_svdpp', [50, 100, 150]),\n",
    "#         'n_epochs': hp.choice('n_epochs_svdpp', [10, 20, 30]),\n",
    "#         'lr_all': hp.uniform('lr_all_svdpp', 0.001, 0.1),\n",
    "#         'reg_all': hp.uniform('reg_all_svdpp', 0.01, 0.2),\n",
    "#         'random_state': 0\n",
    "#     },\n",
    "    'NMF': {\n",
    "        'n_factors': hp.choice('n_factors_nmf', [5, 10, 15, 20, 25]),\n",
    "        'n_epochs': hp.choice('n_epochs_nmf', [10, 20, 30, 40, 50]),\n",
    "        'biased': hp.choice('biased_nmf', [True, False]),\n",
    "        'reg_pu': hp.uniform('reg_pu_nmf', 0.001, 0.1),\n",
    "        'reg_qi': hp.uniform('reg_qi_nmf', 0.001, 0.1),\n",
    "        'lr_bu': hp.uniform('lr_bu_nmf', 0.001, 0.1),\n",
    "        'lr_bi': hp.uniform('lr_bi_nmf', 0.001, 0.1),\n",
    "        'random_state': 0\n",
    "    }\n",
    "}\n",
    "\n",
    "def algo_objective(params, algo_name):\n",
    "    if algo_name == 'SVD':\n",
    "        algo = SVD(**params)\n",
    "    elif algo_name == 'SVDpp':\n",
    "        algo = SVDpp(**params)\n",
    "    elif algo_name == 'NMF':\n",
    "        algo = NMF(**params)\n",
    "    \n",
    "    rmse = cross_validate(algo, data, measures=['RMSE'], cv=5)['test_rmse'].mean()\n",
    "    return rmse\n",
    "\n",
    "for algo_name, space in algo_spaces.items():\n",
    "    trials = Trials() \n",
    "    best = fmin(lambda params: algo_objective(params, algo_name), space, algo=tpe.suggest, max_evals=50, trials=trials)\n",
    "    print(f\"Best parameters for {algo_name}:\")\n",
    "    print(best)"
   ]
  },
  {
   "cell_type": "markdown",
   "id": "36101e47",
   "metadata": {},
   "source": [
    "#### Підставимо параметри в моделі"
   ]
  },
  {
   "cell_type": "code",
   "execution_count": 47,
   "id": "8e4bc901",
   "metadata": {},
   "outputs": [],
   "source": [
    "svd_model = SVD(lr_all=0.012, n_epochs=2, n_factors=2, reg_all=0.108)\n",
    "svdpp_model = SVDpp(lr_all=0.01, n_epochs= 5, n_factors=5, reg_all=0.1)\n",
    "nmf_model = NMF(biased=0, lr_bi=0.008129025753785673, lr_bu=0.027399460741379694,\n",
    "                n_epochs=1, n_factors=2,\n",
    "                reg_pu=0.08468010916047869, reg_qi=0.09560446522744714)\n"
   ]
  },
  {
   "cell_type": "markdown",
   "id": "e254f93f",
   "metadata": {},
   "source": [
    "#### Застосуємо крос-валідацію"
   ]
  },
  {
   "cell_type": "code",
   "execution_count": 48,
   "id": "34172a3a",
   "metadata": {},
   "outputs": [
    {
     "name": "stdout",
     "output_type": "stream",
     "text": [
      "Cross-validating SVD\n",
      "Evaluating RMSE of algorithm SVD on 5 split(s).\n",
      "\n",
      "                  Fold 1  Fold 2  Fold 3  Fold 4  Fold 5  Mean    Std     \n",
      "RMSE (testset)    0.9597  0.9664  0.9550  0.9553  0.9574  0.9588  0.0042  \n",
      "Fit time          0.10    0.13    0.13    0.13    0.14    0.13    0.01    \n",
      "Test time         0.10    0.17    0.12    0.16    0.10    0.13    0.03    \n",
      "Cross-validating SVDpp\n",
      "Evaluating RMSE of algorithm SVDpp on 5 split(s).\n",
      "\n",
      "                  Fold 1  Fold 2  Fold 3  Fold 4  Fold 5  Mean    Std     \n",
      "RMSE (testset)    0.9500  0.9529  0.9459  0.9389  0.9531  0.9482  0.0053  \n",
      "Fit time          19.71   20.05   20.63   20.31   20.47   20.23   0.33    \n",
      "Test time         2.45    2.17    2.40    2.03    2.16    2.24    0.16    \n",
      "Cross-validating NMF\n",
      "Evaluating RMSE of algorithm NMF on 5 split(s).\n",
      "\n",
      "                  Fold 1  Fold 2  Fold 3  Fold 4  Fold 5  Mean    Std     \n",
      "RMSE (testset)    1.8260  1.8319  1.8456  1.8265  1.8232  1.8307  0.0080  \n",
      "Fit time          0.07    0.08    0.08    0.09    0.09    0.08    0.01    \n",
      "Test time         0.15    0.09    0.15    0.08    0.18    0.13    0.04    \n"
     ]
    }
   ],
   "source": [
    "models = [svd_model, svdpp_model, nmf_model]\n",
    "for model in models:\n",
    "    print(f\"Cross-validating {model.__class__.__name__}\")\n",
    "    cross_validate(model, data, measures=['RMSE'], cv=5, verbose=True)\n"
   ]
  }
 ],
 "metadata": {
  "kernelspec": {
   "display_name": "Python 3 (ipykernel)",
   "language": "python",
   "name": "python3"
  },
  "language_info": {
   "codemirror_mode": {
    "name": "ipython",
    "version": 3
   },
   "file_extension": ".py",
   "mimetype": "text/x-python",
   "name": "python",
   "nbconvert_exporter": "python",
   "pygments_lexer": "ipython3",
   "version": "3.10.9"
  }
 },
 "nbformat": 4,
 "nbformat_minor": 5
}
