{
 "cells": [
  {
   "cell_type": "markdown",
   "id": "084e4502",
   "metadata": {},
   "source": [
    "# Домашня робота №5"
   ]
  },
  {
   "cell_type": "code",
   "execution_count": 67,
   "id": "c7139c55",
   "metadata": {},
   "outputs": [],
   "source": [
    "import pandas as pd\n",
    "import numpy as np\n",
    "from sklearn.model_selection import train_test_split\n",
    "from sklearn.svm import SVC\n",
    "from sklearn.ensemble import RandomForestClassifier\n",
    "from sklearn.metrics import accuracy_score\n",
    "import glob\n",
    "import matplotlib.pyplot as plt\n",
    "import seaborn as sns\n",
    "from sklearn.metrics import confusion_matrix\n",
    "from sklearn.tree import DecisionTreeClassifier, export_graphviz\n",
    "import graphviz"
   ]
  },
  {
   "cell_type": "markdown",
   "id": "2b5abeda",
   "metadata": {},
   "source": [
    "### Зберемо наші дані в один dataframe, а також додамо позначки для класів"
   ]
  },
  {
   "cell_type": "code",
   "execution_count": 75,
   "id": "a228afe2",
   "metadata": {},
   "outputs": [],
   "source": [
    "data_path = 'data'\n",
    "activities = ['idle', 'running', 'stairs', 'walking']\n",
    "dfs = []\n",
    "\n",
    "for activity in activities:\n",
    "    activity_path = f'{data_path}/{activity}'\n",
    "    csv_files = glob.glob(f'{activity_path}/*.csv')\n",
    "    df = pd.concat((pd.read_csv(file) for file in csv_files), ignore_index=True)\n",
    "    df['Activity'] = activities.index(activity) + 1\n",
    "    dfs.append(df)\n",
    "\n",
    "data = pd.concat(dfs, ignore_index=True)\n"
   ]
  },
  {
   "cell_type": "code",
   "execution_count": 76,
   "id": "86433546",
   "metadata": {},
   "outputs": [
    {
     "data": {
      "text/html": [
       "<div>\n",
       "<style scoped>\n",
       "    .dataframe tbody tr th:only-of-type {\n",
       "        vertical-align: middle;\n",
       "    }\n",
       "\n",
       "    .dataframe tbody tr th {\n",
       "        vertical-align: top;\n",
       "    }\n",
       "\n",
       "    .dataframe thead th {\n",
       "        text-align: right;\n",
       "    }\n",
       "</style>\n",
       "<table border=\"1\" class=\"dataframe\">\n",
       "  <thead>\n",
       "    <tr style=\"text-align: right;\">\n",
       "      <th></th>\n",
       "      <th>accelerometer_X</th>\n",
       "      <th>accelerometer_Y</th>\n",
       "      <th>accelerometer_Z</th>\n",
       "      <th>Activity</th>\n",
       "    </tr>\n",
       "  </thead>\n",
       "  <tbody>\n",
       "    <tr>\n",
       "      <th>0</th>\n",
       "      <td>1.000776</td>\n",
       "      <td>4.616021</td>\n",
       "      <td>8.576031</td>\n",
       "      <td>1</td>\n",
       "    </tr>\n",
       "    <tr>\n",
       "      <th>1</th>\n",
       "      <td>0.718261</td>\n",
       "      <td>4.209007</td>\n",
       "      <td>8.446744</td>\n",
       "      <td>1</td>\n",
       "    </tr>\n",
       "    <tr>\n",
       "      <th>2</th>\n",
       "      <td>-0.909797</td>\n",
       "      <td>-0.282516</td>\n",
       "      <td>9.203311</td>\n",
       "      <td>1</td>\n",
       "    </tr>\n",
       "    <tr>\n",
       "      <th>3</th>\n",
       "      <td>5.099650</td>\n",
       "      <td>0.148441</td>\n",
       "      <td>8.418014</td>\n",
       "      <td>1</td>\n",
       "    </tr>\n",
       "    <tr>\n",
       "      <th>4</th>\n",
       "      <td>1.762132</td>\n",
       "      <td>-0.162806</td>\n",
       "      <td>9.251195</td>\n",
       "      <td>1</td>\n",
       "    </tr>\n",
       "    <tr>\n",
       "      <th>...</th>\n",
       "      <td>...</td>\n",
       "      <td>...</td>\n",
       "      <td>...</td>\n",
       "      <td>...</td>\n",
       "    </tr>\n",
       "    <tr>\n",
       "      <th>132745</th>\n",
       "      <td>5.109226</td>\n",
       "      <td>-15.452178</td>\n",
       "      <td>-1.470040</td>\n",
       "      <td>4</td>\n",
       "    </tr>\n",
       "    <tr>\n",
       "      <th>132746</th>\n",
       "      <td>6.373365</td>\n",
       "      <td>-11.741165</td>\n",
       "      <td>-8.226476</td>\n",
       "      <td>4</td>\n",
       "    </tr>\n",
       "    <tr>\n",
       "      <th>132747</th>\n",
       "      <td>3.289633</td>\n",
       "      <td>-9.993398</td>\n",
       "      <td>-0.383072</td>\n",
       "      <td>4</td>\n",
       "    </tr>\n",
       "    <tr>\n",
       "      <th>132748</th>\n",
       "      <td>-2.978387</td>\n",
       "      <td>-3.050213</td>\n",
       "      <td>1.273715</td>\n",
       "      <td>4</td>\n",
       "    </tr>\n",
       "    <tr>\n",
       "      <th>132749</th>\n",
       "      <td>-4.347870</td>\n",
       "      <td>-9.926360</td>\n",
       "      <td>-1.642422</td>\n",
       "      <td>4</td>\n",
       "    </tr>\n",
       "  </tbody>\n",
       "</table>\n",
       "<p>132750 rows × 4 columns</p>\n",
       "</div>"
      ],
      "text/plain": [
       "        accelerometer_X  accelerometer_Y  accelerometer_Z  Activity\n",
       "0              1.000776         4.616021         8.576031         1\n",
       "1              0.718261         4.209007         8.446744         1\n",
       "2             -0.909797        -0.282516         9.203311         1\n",
       "3              5.099650         0.148441         8.418014         1\n",
       "4              1.762132        -0.162806         9.251195         1\n",
       "...                 ...              ...              ...       ...\n",
       "132745         5.109226       -15.452178        -1.470040         4\n",
       "132746         6.373365       -11.741165        -8.226476         4\n",
       "132747         3.289633        -9.993398        -0.383072         4\n",
       "132748        -2.978387        -3.050213         1.273715         4\n",
       "132749        -4.347870        -9.926360        -1.642422         4\n",
       "\n",
       "[132750 rows x 4 columns]"
      ]
     },
     "execution_count": 76,
     "metadata": {},
     "output_type": "execute_result"
    }
   ],
   "source": [
    "\n",
    "data"
   ]
  },
  {
   "cell_type": "code",
   "execution_count": 77,
   "id": "6909dfab",
   "metadata": {},
   "outputs": [
    {
     "data": {
      "text/plain": [
       "(132750, 4)"
      ]
     },
     "execution_count": 77,
     "metadata": {},
     "output_type": "execute_result"
    }
   ],
   "source": [
    "data.shape"
   ]
  },
  {
   "cell_type": "markdown",
   "id": "42176797",
   "metadata": {},
   "source": [
    "### Додамо додаткові фічі"
   ]
  },
  {
   "cell_type": "code",
   "execution_count": 78,
   "id": "47882c95",
   "metadata": {
    "scrolled": true
   },
   "outputs": [
    {
     "data": {
      "text/html": [
       "<div>\n",
       "<style scoped>\n",
       "    .dataframe tbody tr th:only-of-type {\n",
       "        vertical-align: middle;\n",
       "    }\n",
       "\n",
       "    .dataframe tbody tr th {\n",
       "        vertical-align: top;\n",
       "    }\n",
       "\n",
       "    .dataframe thead th {\n",
       "        text-align: right;\n",
       "    }\n",
       "</style>\n",
       "<table border=\"1\" class=\"dataframe\">\n",
       "  <thead>\n",
       "    <tr style=\"text-align: right;\">\n",
       "      <th></th>\n",
       "      <th>accelerometer_X</th>\n",
       "      <th>accelerometer_Y</th>\n",
       "      <th>accelerometer_Z</th>\n",
       "      <th>Activity</th>\n",
       "      <th>mean</th>\n",
       "      <th>std</th>\n",
       "      <th>max</th>\n",
       "      <th>min</th>\n",
       "      <th>range</th>\n",
       "    </tr>\n",
       "  </thead>\n",
       "  <tbody>\n",
       "    <tr>\n",
       "      <th>0</th>\n",
       "      <td>1.000776</td>\n",
       "      <td>4.616021</td>\n",
       "      <td>8.576031</td>\n",
       "      <td>1</td>\n",
       "      <td>4.730943</td>\n",
       "      <td>3.788935</td>\n",
       "      <td>8.576031</td>\n",
       "      <td>1.000776</td>\n",
       "      <td>7.575255</td>\n",
       "    </tr>\n",
       "    <tr>\n",
       "      <th>1</th>\n",
       "      <td>0.718261</td>\n",
       "      <td>4.209007</td>\n",
       "      <td>8.446744</td>\n",
       "      <td>1</td>\n",
       "      <td>4.458004</td>\n",
       "      <td>3.870253</td>\n",
       "      <td>8.446744</td>\n",
       "      <td>0.718261</td>\n",
       "      <td>7.728483</td>\n",
       "    </tr>\n",
       "    <tr>\n",
       "      <th>2</th>\n",
       "      <td>-0.909797</td>\n",
       "      <td>-0.282516</td>\n",
       "      <td>9.203311</td>\n",
       "      <td>1</td>\n",
       "      <td>2.670333</td>\n",
       "      <td>5.666412</td>\n",
       "      <td>9.203311</td>\n",
       "      <td>-0.909797</td>\n",
       "      <td>10.113108</td>\n",
       "    </tr>\n",
       "    <tr>\n",
       "      <th>3</th>\n",
       "      <td>5.099650</td>\n",
       "      <td>0.148441</td>\n",
       "      <td>8.418014</td>\n",
       "      <td>1</td>\n",
       "      <td>4.555368</td>\n",
       "      <td>4.161567</td>\n",
       "      <td>8.418014</td>\n",
       "      <td>0.148441</td>\n",
       "      <td>8.269573</td>\n",
       "    </tr>\n",
       "    <tr>\n",
       "      <th>4</th>\n",
       "      <td>1.762132</td>\n",
       "      <td>-0.162806</td>\n",
       "      <td>9.251195</td>\n",
       "      <td>1</td>\n",
       "      <td>3.616840</td>\n",
       "      <td>4.973511</td>\n",
       "      <td>9.251195</td>\n",
       "      <td>-0.162806</td>\n",
       "      <td>9.414001</td>\n",
       "    </tr>\n",
       "    <tr>\n",
       "      <th>...</th>\n",
       "      <td>...</td>\n",
       "      <td>...</td>\n",
       "      <td>...</td>\n",
       "      <td>...</td>\n",
       "      <td>...</td>\n",
       "      <td>...</td>\n",
       "      <td>...</td>\n",
       "      <td>...</td>\n",
       "      <td>...</td>\n",
       "    </tr>\n",
       "    <tr>\n",
       "      <th>132745</th>\n",
       "      <td>5.109226</td>\n",
       "      <td>-15.452178</td>\n",
       "      <td>-1.470040</td>\n",
       "      <td>4</td>\n",
       "      <td>-3.937664</td>\n",
       "      <td>10.500462</td>\n",
       "      <td>5.109226</td>\n",
       "      <td>-15.452178</td>\n",
       "      <td>20.561404</td>\n",
       "    </tr>\n",
       "    <tr>\n",
       "      <th>132746</th>\n",
       "      <td>6.373365</td>\n",
       "      <td>-11.741165</td>\n",
       "      <td>-8.226476</td>\n",
       "      <td>4</td>\n",
       "      <td>-4.531425</td>\n",
       "      <td>9.605941</td>\n",
       "      <td>6.373365</td>\n",
       "      <td>-11.741165</td>\n",
       "      <td>18.114530</td>\n",
       "    </tr>\n",
       "    <tr>\n",
       "      <th>132747</th>\n",
       "      <td>3.289633</td>\n",
       "      <td>-9.993398</td>\n",
       "      <td>-0.383072</td>\n",
       "      <td>4</td>\n",
       "      <td>-2.362279</td>\n",
       "      <td>6.859131</td>\n",
       "      <td>3.289633</td>\n",
       "      <td>-9.993398</td>\n",
       "      <td>13.283031</td>\n",
       "    </tr>\n",
       "    <tr>\n",
       "      <th>132748</th>\n",
       "      <td>-2.978387</td>\n",
       "      <td>-3.050213</td>\n",
       "      <td>1.273715</td>\n",
       "      <td>4</td>\n",
       "      <td>-1.584962</td>\n",
       "      <td>2.475947</td>\n",
       "      <td>1.273715</td>\n",
       "      <td>-3.050213</td>\n",
       "      <td>4.323928</td>\n",
       "    </tr>\n",
       "    <tr>\n",
       "      <th>132749</th>\n",
       "      <td>-4.347870</td>\n",
       "      <td>-9.926360</td>\n",
       "      <td>-1.642422</td>\n",
       "      <td>4</td>\n",
       "      <td>-5.305551</td>\n",
       "      <td>4.224189</td>\n",
       "      <td>-1.642422</td>\n",
       "      <td>-9.926360</td>\n",
       "      <td>8.283938</td>\n",
       "    </tr>\n",
       "  </tbody>\n",
       "</table>\n",
       "<p>132750 rows × 9 columns</p>\n",
       "</div>"
      ],
      "text/plain": [
       "        accelerometer_X  accelerometer_Y  accelerometer_Z  Activity      mean  \\\n",
       "0              1.000776         4.616021         8.576031         1  4.730943   \n",
       "1              0.718261         4.209007         8.446744         1  4.458004   \n",
       "2             -0.909797        -0.282516         9.203311         1  2.670333   \n",
       "3              5.099650         0.148441         8.418014         1  4.555368   \n",
       "4              1.762132        -0.162806         9.251195         1  3.616840   \n",
       "...                 ...              ...              ...       ...       ...   \n",
       "132745         5.109226       -15.452178        -1.470040         4 -3.937664   \n",
       "132746         6.373365       -11.741165        -8.226476         4 -4.531425   \n",
       "132747         3.289633        -9.993398        -0.383072         4 -2.362279   \n",
       "132748        -2.978387        -3.050213         1.273715         4 -1.584962   \n",
       "132749        -4.347870        -9.926360        -1.642422         4 -5.305551   \n",
       "\n",
       "              std       max        min      range  \n",
       "0        3.788935  8.576031   1.000776   7.575255  \n",
       "1        3.870253  8.446744   0.718261   7.728483  \n",
       "2        5.666412  9.203311  -0.909797  10.113108  \n",
       "3        4.161567  8.418014   0.148441   8.269573  \n",
       "4        4.973511  9.251195  -0.162806   9.414001  \n",
       "...           ...       ...        ...        ...  \n",
       "132745  10.500462  5.109226 -15.452178  20.561404  \n",
       "132746   9.605941  6.373365 -11.741165  18.114530  \n",
       "132747   6.859131  3.289633  -9.993398  13.283031  \n",
       "132748   2.475947  1.273715  -3.050213   4.323928  \n",
       "132749   4.224189 -1.642422  -9.926360   8.283938  \n",
       "\n",
       "[132750 rows x 9 columns]"
      ]
     },
     "execution_count": 78,
     "metadata": {},
     "output_type": "execute_result"
    }
   ],
   "source": [
    "def extract_time_features(data):\n",
    "    features = data[['accelerometer_X', 'accelerometer_Y', 'accelerometer_Z']]\n",
    "    data['mean'] = features.mean(axis=1)\n",
    "    data['std'] = features.std(axis=1)\n",
    "    data['max'] = features.max(axis=1)\n",
    "    data['min'] = features.min(axis=1)\n",
    "    data['range'] = data['max'] - data['min']\n",
    "    return data\n",
    "\n",
    "data = extract_time_features(data)\n",
    "data"
   ]
  },
  {
   "cell_type": "code",
   "execution_count": 79,
   "id": "c99dc05f",
   "metadata": {},
   "outputs": [
    {
     "data": {
      "text/plain": [
       "(132750, 9)"
      ]
     },
     "execution_count": 79,
     "metadata": {},
     "output_type": "execute_result"
    }
   ],
   "source": [
    "data.shape"
   ]
  },
  {
   "cell_type": "markdown",
   "id": "0d603fee",
   "metadata": {},
   "source": [
    "### Розділимо дані "
   ]
  },
  {
   "cell_type": "code",
   "execution_count": 81,
   "id": "4218785c",
   "metadata": {},
   "outputs": [],
   "source": [
    "X = data[['mean', 'std', 'max', 'min', 'range']]\n",
    "y = data['Activity']\n",
    "\n",
    "X_train, X_test, y_train, y_test = train_test_split(X, y, test_size=0.3, random_state=42)\n",
    "\n"
   ]
  },
  {
   "cell_type": "markdown",
   "id": "6200bad8",
   "metadata": {},
   "source": [
    "### Навчаємо за допомогою SVM"
   ]
  },
  {
   "cell_type": "code",
   "execution_count": 83,
   "id": "873f7ac2",
   "metadata": {},
   "outputs": [
    {
     "name": "stdout",
     "output_type": "stream",
     "text": [
      "Accuracy of SVM: 0.8361079723791588\n"
     ]
    }
   ],
   "source": [
    "svm_model = SVC(C=1.0, kernel='rbf', degree=3)\n",
    "svm_model.fit(X_train, y_train)\n",
    "y_pred_svm = svm_model.predict(X_test)\n",
    "accuracy_svm = accuracy_score(y_test, y_pred_svm)\n",
    "print(f\"Accuracy of SVM: {accuracy_svm}\")\n"
   ]
  },
  {
   "cell_type": "code",
   "execution_count": 70,
   "id": "8411de45",
   "metadata": {},
   "outputs": [
    {
     "data": {
      "image/png": "[encoded data removed]",
      "text/plain": [
       "<Figure size 600x400 with 2 Axes>"
      ]
     },
     "metadata": {},
     "output_type": "display_data"
    }
   ],
   "source": [
    "conf_matrix_svm = confusion_matrix(y_test, y_pred_svm)\n",
    "plt.figure(figsize=(6, 4))\n",
    "sns.heatmap(conf_matrix_svm, annot=True, fmt='d', cmap='Blues', xticklabels=activities, yticklabels=activities)\n",
    "plt.title('Confusion Matrix - SVM')\n",
    "plt.xlabel('Predicted')\n",
    "plt.ylabel('True')\n",
    "plt.show()"
   ]
  },
  {
   "cell_type": "markdown",
   "id": "b37a7232",
   "metadata": {},
   "source": [
    "### Навчаємо за допомогою Random Forest"
   ]
  },
  {
   "cell_type": "code",
   "execution_count": 59,
   "id": "00749bcc",
   "metadata": {},
   "outputs": [
    {
     "name": "stdout",
     "output_type": "stream",
     "text": [
      "Accuracy of Random Forest: 0.9998870056497176\n"
     ]
    }
   ],
   "source": [
    "rf_model = RandomForestClassifier()\n",
    "rf_model.fit(X_train, y_train)\n",
    "y_pred_rf = rf_model.predict(X_test)\n",
    "accuracy_rf = accuracy_score(y_test, y_pred_rf)\n",
    "print(f\"Accuracy of Random Forest: {accuracy_rf}\")\n"
   ]
  },
  {
   "cell_type": "code",
   "execution_count": 64,
   "id": "53ff32ca",
   "metadata": {},
   "outputs": [
    {
     "data": {
      "image/png": "[encoded data removed]",
      "text/plain": [
       "<Figure size 600x400 with 2 Axes>"
      ]
     },
     "metadata": {},
     "output_type": "display_data"
    }
   ],
   "source": [
    "conf_matrix_rf = confusion_matrix(y_test, y_pred_rf)\n",
    "plt.figure(figsize=(6, 4))\n",
    "sns.heatmap(conf_matrix_rf, annot=True, fmt='d', cmap='Greens', xticklabels=activities, yticklabels=activities)\n",
    "plt.title('Confusion Matrix - Random Forest')\n",
    "plt.xlabel('Predicted')\n",
    "plt.ylabel('True')\n",
    "plt.show()"
   ]
  }
 ],
 "metadata": {
  "kernelspec": {
   "display_name": "Python 3 (ipykernel)",
   "language": "python",
   "name": "python3"
  },
  "language_info": {
   "codemirror_mode": {
    "name": "ipython",
    "version": 3
   },
   "file_extension": ".py",
   "mimetype": "text/x-python",
   "name": "python",
   "nbconvert_exporter": "python",
   "pygments_lexer": "ipython3",
   "version": "3.10.9"
  }
 },
 "nbformat": 4,
 "nbformat_minor": 5
}
