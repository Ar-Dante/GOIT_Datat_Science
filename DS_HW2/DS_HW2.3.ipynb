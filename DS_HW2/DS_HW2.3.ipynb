{
 "cells": [
  {
   "cell_type": "markdown",
   "id": "0cf8190a",
   "metadata": {},
   "source": [
    "# Домашня робота 2.3"
   ]
  },
  {
   "cell_type": "code",
   "execution_count": 64,
   "id": "c6def921",
   "metadata": {},
   "outputs": [],
   "source": [
    "import pandas as pd\n",
    "import matplotlib.pyplot as plt\n",
    "import numpy as np\n",
    "%matplotlib inline"
   ]
  },
  {
   "cell_type": "markdown",
   "id": "49b6b1e3",
   "metadata": {},
   "source": [
    "### Прочитайте csv файл (використовуйте функцію read_csv)"
   ]
  },
  {
   "cell_type": "code",
   "execution_count": 3,
   "id": "cea7f22c",
   "metadata": {},
   "outputs": [
    {
     "data": {
      "text/html": [
       "<div>\n",
       "<style scoped>\n",
       "    .dataframe tbody tr th:only-of-type {\n",
       "        vertical-align: middle;\n",
       "    }\n",
       "\n",
       "    .dataframe tbody tr th {\n",
       "        vertical-align: top;\n",
       "    }\n",
       "\n",
       "    .dataframe thead th {\n",
       "        text-align: right;\n",
       "    }\n",
       "</style>\n",
       "<table border=\"1\" class=\"dataframe\">\n",
       "  <thead>\n",
       "    <tr style=\"text-align: right;\">\n",
       "      <th></th>\n",
       "      <th>Name</th>\n",
       "      <th>Author</th>\n",
       "      <th>User Rating</th>\n",
       "      <th>Reviews</th>\n",
       "      <th>Price</th>\n",
       "      <th>Year</th>\n",
       "      <th>Genre</th>\n",
       "    </tr>\n",
       "  </thead>\n",
       "  <tbody>\n",
       "    <tr>\n",
       "      <th>0</th>\n",
       "      <td>10-Day Green Smoothie Cleanse</td>\n",
       "      <td>JJ Smith</td>\n",
       "      <td>4.7</td>\n",
       "      <td>17350</td>\n",
       "      <td>8</td>\n",
       "      <td>2016</td>\n",
       "      <td>Non Fiction</td>\n",
       "    </tr>\n",
       "    <tr>\n",
       "      <th>1</th>\n",
       "      <td>11/22/63: A Novel</td>\n",
       "      <td>Stephen King</td>\n",
       "      <td>4.6</td>\n",
       "      <td>2052</td>\n",
       "      <td>22</td>\n",
       "      <td>2011</td>\n",
       "      <td>Fiction</td>\n",
       "    </tr>\n",
       "    <tr>\n",
       "      <th>2</th>\n",
       "      <td>12 Rules for Life: An Antidote to Chaos</td>\n",
       "      <td>Jordan B. Peterson</td>\n",
       "      <td>4.7</td>\n",
       "      <td>18979</td>\n",
       "      <td>15</td>\n",
       "      <td>2018</td>\n",
       "      <td>Non Fiction</td>\n",
       "    </tr>\n",
       "    <tr>\n",
       "      <th>3</th>\n",
       "      <td>1984 (Signet Classics)</td>\n",
       "      <td>George Orwell</td>\n",
       "      <td>4.7</td>\n",
       "      <td>21424</td>\n",
       "      <td>6</td>\n",
       "      <td>2017</td>\n",
       "      <td>Fiction</td>\n",
       "    </tr>\n",
       "    <tr>\n",
       "      <th>4</th>\n",
       "      <td>5,000 Awesome Facts (About Everything!) (Natio...</td>\n",
       "      <td>National Geographic Kids</td>\n",
       "      <td>4.8</td>\n",
       "      <td>7665</td>\n",
       "      <td>12</td>\n",
       "      <td>2019</td>\n",
       "      <td>Non Fiction</td>\n",
       "    </tr>\n",
       "    <tr>\n",
       "      <th>...</th>\n",
       "      <td>...</td>\n",
       "      <td>...</td>\n",
       "      <td>...</td>\n",
       "      <td>...</td>\n",
       "      <td>...</td>\n",
       "      <td>...</td>\n",
       "      <td>...</td>\n",
       "    </tr>\n",
       "    <tr>\n",
       "      <th>545</th>\n",
       "      <td>Wrecking Ball (Diary of a Wimpy Kid Book 14)</td>\n",
       "      <td>Jeff Kinney</td>\n",
       "      <td>4.9</td>\n",
       "      <td>9413</td>\n",
       "      <td>8</td>\n",
       "      <td>2019</td>\n",
       "      <td>Fiction</td>\n",
       "    </tr>\n",
       "    <tr>\n",
       "      <th>546</th>\n",
       "      <td>You Are a Badass: How to Stop Doubting Your Gr...</td>\n",
       "      <td>Jen Sincero</td>\n",
       "      <td>4.7</td>\n",
       "      <td>14331</td>\n",
       "      <td>8</td>\n",
       "      <td>2016</td>\n",
       "      <td>Non Fiction</td>\n",
       "    </tr>\n",
       "    <tr>\n",
       "      <th>547</th>\n",
       "      <td>You Are a Badass: How to Stop Doubting Your Gr...</td>\n",
       "      <td>Jen Sincero</td>\n",
       "      <td>4.7</td>\n",
       "      <td>14331</td>\n",
       "      <td>8</td>\n",
       "      <td>2017</td>\n",
       "      <td>Non Fiction</td>\n",
       "    </tr>\n",
       "    <tr>\n",
       "      <th>548</th>\n",
       "      <td>You Are a Badass: How to Stop Doubting Your Gr...</td>\n",
       "      <td>Jen Sincero</td>\n",
       "      <td>4.7</td>\n",
       "      <td>14331</td>\n",
       "      <td>8</td>\n",
       "      <td>2018</td>\n",
       "      <td>Non Fiction</td>\n",
       "    </tr>\n",
       "    <tr>\n",
       "      <th>549</th>\n",
       "      <td>You Are a Badass: How to Stop Doubting Your Gr...</td>\n",
       "      <td>Jen Sincero</td>\n",
       "      <td>4.7</td>\n",
       "      <td>14331</td>\n",
       "      <td>8</td>\n",
       "      <td>2019</td>\n",
       "      <td>Non Fiction</td>\n",
       "    </tr>\n",
       "  </tbody>\n",
       "</table>\n",
       "<p>550 rows × 7 columns</p>\n",
       "</div>"
      ],
      "text/plain": [
       "                                                  Name  \\\n",
       "0                        10-Day Green Smoothie Cleanse   \n",
       "1                                    11/22/63: A Novel   \n",
       "2              12 Rules for Life: An Antidote to Chaos   \n",
       "3                               1984 (Signet Classics)   \n",
       "4    5,000 Awesome Facts (About Everything!) (Natio...   \n",
       "..                                                 ...   \n",
       "545       Wrecking Ball (Diary of a Wimpy Kid Book 14)   \n",
       "546  You Are a Badass: How to Stop Doubting Your Gr...   \n",
       "547  You Are a Badass: How to Stop Doubting Your Gr...   \n",
       "548  You Are a Badass: How to Stop Doubting Your Gr...   \n",
       "549  You Are a Badass: How to Stop Doubting Your Gr...   \n",
       "\n",
       "                       Author  User Rating  Reviews  Price  Year        Genre  \n",
       "0                    JJ Smith          4.7    17350      8  2016  Non Fiction  \n",
       "1                Stephen King          4.6     2052     22  2011      Fiction  \n",
       "2          Jordan B. Peterson          4.7    18979     15  2018  Non Fiction  \n",
       "3               George Orwell          4.7    21424      6  2017      Fiction  \n",
       "4    National Geographic Kids          4.8     7665     12  2019  Non Fiction  \n",
       "..                        ...          ...      ...    ...   ...          ...  \n",
       "545               Jeff Kinney          4.9     9413      8  2019      Fiction  \n",
       "546               Jen Sincero          4.7    14331      8  2016  Non Fiction  \n",
       "547               Jen Sincero          4.7    14331      8  2017  Non Fiction  \n",
       "548               Jen Sincero          4.7    14331      8  2018  Non Fiction  \n",
       "549               Jen Sincero          4.7    14331      8  2019  Non Fiction  \n",
       "\n",
       "[550 rows x 7 columns]"
      ]
     },
     "execution_count": 3,
     "metadata": {},
     "output_type": "execute_result"
    }
   ],
   "source": [
    "data = pd.read_csv(\"bestsellers with categories.csv\")\n",
    "data"
   ]
  },
  {
   "cell_type": "markdown",
   "id": "694ce658",
   "metadata": {},
   "source": [
    "### Виведіть перші п'ять рядків (використовується функція head)"
   ]
  },
  {
   "cell_type": "code",
   "execution_count": 4,
   "id": "f158dc72",
   "metadata": {},
   "outputs": [
    {
     "data": {
      "text/html": [
       "<div>\n",
       "<style scoped>\n",
       "    .dataframe tbody tr th:only-of-type {\n",
       "        vertical-align: middle;\n",
       "    }\n",
       "\n",
       "    .dataframe tbody tr th {\n",
       "        vertical-align: top;\n",
       "    }\n",
       "\n",
       "    .dataframe thead th {\n",
       "        text-align: right;\n",
       "    }\n",
       "</style>\n",
       "<table border=\"1\" class=\"dataframe\">\n",
       "  <thead>\n",
       "    <tr style=\"text-align: right;\">\n",
       "      <th></th>\n",
       "      <th>Name</th>\n",
       "      <th>Author</th>\n",
       "      <th>User Rating</th>\n",
       "      <th>Reviews</th>\n",
       "      <th>Price</th>\n",
       "      <th>Year</th>\n",
       "      <th>Genre</th>\n",
       "    </tr>\n",
       "  </thead>\n",
       "  <tbody>\n",
       "    <tr>\n",
       "      <th>0</th>\n",
       "      <td>10-Day Green Smoothie Cleanse</td>\n",
       "      <td>JJ Smith</td>\n",
       "      <td>4.7</td>\n",
       "      <td>17350</td>\n",
       "      <td>8</td>\n",
       "      <td>2016</td>\n",
       "      <td>Non Fiction</td>\n",
       "    </tr>\n",
       "    <tr>\n",
       "      <th>1</th>\n",
       "      <td>11/22/63: A Novel</td>\n",
       "      <td>Stephen King</td>\n",
       "      <td>4.6</td>\n",
       "      <td>2052</td>\n",
       "      <td>22</td>\n",
       "      <td>2011</td>\n",
       "      <td>Fiction</td>\n",
       "    </tr>\n",
       "    <tr>\n",
       "      <th>2</th>\n",
       "      <td>12 Rules for Life: An Antidote to Chaos</td>\n",
       "      <td>Jordan B. Peterson</td>\n",
       "      <td>4.7</td>\n",
       "      <td>18979</td>\n",
       "      <td>15</td>\n",
       "      <td>2018</td>\n",
       "      <td>Non Fiction</td>\n",
       "    </tr>\n",
       "    <tr>\n",
       "      <th>3</th>\n",
       "      <td>1984 (Signet Classics)</td>\n",
       "      <td>George Orwell</td>\n",
       "      <td>4.7</td>\n",
       "      <td>21424</td>\n",
       "      <td>6</td>\n",
       "      <td>2017</td>\n",
       "      <td>Fiction</td>\n",
       "    </tr>\n",
       "    <tr>\n",
       "      <th>4</th>\n",
       "      <td>5,000 Awesome Facts (About Everything!) (Natio...</td>\n",
       "      <td>National Geographic Kids</td>\n",
       "      <td>4.8</td>\n",
       "      <td>7665</td>\n",
       "      <td>12</td>\n",
       "      <td>2019</td>\n",
       "      <td>Non Fiction</td>\n",
       "    </tr>\n",
       "  </tbody>\n",
       "</table>\n",
       "</div>"
      ],
      "text/plain": [
       "                                                Name  \\\n",
       "0                      10-Day Green Smoothie Cleanse   \n",
       "1                                  11/22/63: A Novel   \n",
       "2            12 Rules for Life: An Antidote to Chaos   \n",
       "3                             1984 (Signet Classics)   \n",
       "4  5,000 Awesome Facts (About Everything!) (Natio...   \n",
       "\n",
       "                     Author  User Rating  Reviews  Price  Year        Genre  \n",
       "0                  JJ Smith          4.7    17350      8  2016  Non Fiction  \n",
       "1              Stephen King          4.6     2052     22  2011      Fiction  \n",
       "2        Jordan B. Peterson          4.7    18979     15  2018  Non Fiction  \n",
       "3             George Orwell          4.7    21424      6  2017      Fiction  \n",
       "4  National Geographic Kids          4.8     7665     12  2019  Non Fiction  "
      ]
     },
     "execution_count": 4,
     "metadata": {},
     "output_type": "execute_result"
    }
   ],
   "source": [
    "data.head(5)"
   ]
  },
  {
   "cell_type": "markdown",
   "id": "2823a7c8",
   "metadata": {},
   "source": [
    "### Виведіть розміри датасету (використовуйте атрибут shape)"
   ]
  },
  {
   "cell_type": "code",
   "execution_count": 5,
   "id": "df574e67",
   "metadata": {},
   "outputs": [
    {
     "data": {
      "text/plain": [
       "(550, 7)"
      ]
     },
     "execution_count": 5,
     "metadata": {},
     "output_type": "execute_result"
    }
   ],
   "source": [
    "data.shape"
   ]
  },
  {
   "cell_type": "markdown",
   "id": "eb33b6e7",
   "metadata": {},
   "source": [
    "Відповідь: Про скільки книг зберігає дані датасет?   550 "
   ]
  },
  {
   "cell_type": "markdown",
   "id": "0f4e163a",
   "metadata": {},
   "source": [
    "#### Для спрощення подальшої роботи давайте трохи підправимо назви змінних. Як бачите, тут усі назви починаються з великої літери, а одна - навіть містить пробіл. Це дуже небажано і може бути досить незручним. Давайте змінимо регістр на малий, а пробіл замінимо на нижнє підкреслення (snake_style). А заразом і вивчимо корисний атрибут датафрейму: columns (можна просто присвоїти список нових імен цьому атрибуту)"
   ]
  },
  {
   "cell_type": "code",
   "execution_count": 7,
   "id": "9d2d2a49",
   "metadata": {},
   "outputs": [
    {
     "data": {
      "text/html": [
       "<div>\n",
       "<style scoped>\n",
       "    .dataframe tbody tr th:only-of-type {\n",
       "        vertical-align: middle;\n",
       "    }\n",
       "\n",
       "    .dataframe tbody tr th {\n",
       "        vertical-align: top;\n",
       "    }\n",
       "\n",
       "    .dataframe thead th {\n",
       "        text-align: right;\n",
       "    }\n",
       "</style>\n",
       "<table border=\"1\" class=\"dataframe\">\n",
       "  <thead>\n",
       "    <tr style=\"text-align: right;\">\n",
       "      <th></th>\n",
       "      <th>name</th>\n",
       "      <th>author</th>\n",
       "      <th>user_rating</th>\n",
       "      <th>reviews</th>\n",
       "      <th>price</th>\n",
       "      <th>year</th>\n",
       "      <th>genre</th>\n",
       "    </tr>\n",
       "  </thead>\n",
       "  <tbody>\n",
       "    <tr>\n",
       "      <th>0</th>\n",
       "      <td>10-Day Green Smoothie Cleanse</td>\n",
       "      <td>JJ Smith</td>\n",
       "      <td>4.7</td>\n",
       "      <td>17350</td>\n",
       "      <td>8</td>\n",
       "      <td>2016</td>\n",
       "      <td>Non Fiction</td>\n",
       "    </tr>\n",
       "    <tr>\n",
       "      <th>1</th>\n",
       "      <td>11/22/63: A Novel</td>\n",
       "      <td>Stephen King</td>\n",
       "      <td>4.6</td>\n",
       "      <td>2052</td>\n",
       "      <td>22</td>\n",
       "      <td>2011</td>\n",
       "      <td>Fiction</td>\n",
       "    </tr>\n",
       "    <tr>\n",
       "      <th>2</th>\n",
       "      <td>12 Rules for Life: An Antidote to Chaos</td>\n",
       "      <td>Jordan B. Peterson</td>\n",
       "      <td>4.7</td>\n",
       "      <td>18979</td>\n",
       "      <td>15</td>\n",
       "      <td>2018</td>\n",
       "      <td>Non Fiction</td>\n",
       "    </tr>\n",
       "    <tr>\n",
       "      <th>3</th>\n",
       "      <td>1984 (Signet Classics)</td>\n",
       "      <td>George Orwell</td>\n",
       "      <td>4.7</td>\n",
       "      <td>21424</td>\n",
       "      <td>6</td>\n",
       "      <td>2017</td>\n",
       "      <td>Fiction</td>\n",
       "    </tr>\n",
       "    <tr>\n",
       "      <th>4</th>\n",
       "      <td>5,000 Awesome Facts (About Everything!) (Natio...</td>\n",
       "      <td>National Geographic Kids</td>\n",
       "      <td>4.8</td>\n",
       "      <td>7665</td>\n",
       "      <td>12</td>\n",
       "      <td>2019</td>\n",
       "      <td>Non Fiction</td>\n",
       "    </tr>\n",
       "    <tr>\n",
       "      <th>...</th>\n",
       "      <td>...</td>\n",
       "      <td>...</td>\n",
       "      <td>...</td>\n",
       "      <td>...</td>\n",
       "      <td>...</td>\n",
       "      <td>...</td>\n",
       "      <td>...</td>\n",
       "    </tr>\n",
       "    <tr>\n",
       "      <th>545</th>\n",
       "      <td>Wrecking Ball (Diary of a Wimpy Kid Book 14)</td>\n",
       "      <td>Jeff Kinney</td>\n",
       "      <td>4.9</td>\n",
       "      <td>9413</td>\n",
       "      <td>8</td>\n",
       "      <td>2019</td>\n",
       "      <td>Fiction</td>\n",
       "    </tr>\n",
       "    <tr>\n",
       "      <th>546</th>\n",
       "      <td>You Are a Badass: How to Stop Doubting Your Gr...</td>\n",
       "      <td>Jen Sincero</td>\n",
       "      <td>4.7</td>\n",
       "      <td>14331</td>\n",
       "      <td>8</td>\n",
       "      <td>2016</td>\n",
       "      <td>Non Fiction</td>\n",
       "    </tr>\n",
       "    <tr>\n",
       "      <th>547</th>\n",
       "      <td>You Are a Badass: How to Stop Doubting Your Gr...</td>\n",
       "      <td>Jen Sincero</td>\n",
       "      <td>4.7</td>\n",
       "      <td>14331</td>\n",
       "      <td>8</td>\n",
       "      <td>2017</td>\n",
       "      <td>Non Fiction</td>\n",
       "    </tr>\n",
       "    <tr>\n",
       "      <th>548</th>\n",
       "      <td>You Are a Badass: How to Stop Doubting Your Gr...</td>\n",
       "      <td>Jen Sincero</td>\n",
       "      <td>4.7</td>\n",
       "      <td>14331</td>\n",
       "      <td>8</td>\n",
       "      <td>2018</td>\n",
       "      <td>Non Fiction</td>\n",
       "    </tr>\n",
       "    <tr>\n",
       "      <th>549</th>\n",
       "      <td>You Are a Badass: How to Stop Doubting Your Gr...</td>\n",
       "      <td>Jen Sincero</td>\n",
       "      <td>4.7</td>\n",
       "      <td>14331</td>\n",
       "      <td>8</td>\n",
       "      <td>2019</td>\n",
       "      <td>Non Fiction</td>\n",
       "    </tr>\n",
       "  </tbody>\n",
       "</table>\n",
       "<p>550 rows × 7 columns</p>\n",
       "</div>"
      ],
      "text/plain": [
       "                                                  name  \\\n",
       "0                        10-Day Green Smoothie Cleanse   \n",
       "1                                    11/22/63: A Novel   \n",
       "2              12 Rules for Life: An Antidote to Chaos   \n",
       "3                               1984 (Signet Classics)   \n",
       "4    5,000 Awesome Facts (About Everything!) (Natio...   \n",
       "..                                                 ...   \n",
       "545       Wrecking Ball (Diary of a Wimpy Kid Book 14)   \n",
       "546  You Are a Badass: How to Stop Doubting Your Gr...   \n",
       "547  You Are a Badass: How to Stop Doubting Your Gr...   \n",
       "548  You Are a Badass: How to Stop Doubting Your Gr...   \n",
       "549  You Are a Badass: How to Stop Doubting Your Gr...   \n",
       "\n",
       "                       author  user_rating  reviews  price  year        genre  \n",
       "0                    JJ Smith          4.7    17350      8  2016  Non Fiction  \n",
       "1                Stephen King          4.6     2052     22  2011      Fiction  \n",
       "2          Jordan B. Peterson          4.7    18979     15  2018  Non Fiction  \n",
       "3               George Orwell          4.7    21424      6  2017      Fiction  \n",
       "4    National Geographic Kids          4.8     7665     12  2019  Non Fiction  \n",
       "..                        ...          ...      ...    ...   ...          ...  \n",
       "545               Jeff Kinney          4.9     9413      8  2019      Fiction  \n",
       "546               Jen Sincero          4.7    14331      8  2016  Non Fiction  \n",
       "547               Jen Sincero          4.7    14331      8  2017  Non Fiction  \n",
       "548               Jen Sincero          4.7    14331      8  2018  Non Fiction  \n",
       "549               Jen Sincero          4.7    14331      8  2019  Non Fiction  \n",
       "\n",
       "[550 rows x 7 columns]"
      ]
     },
     "execution_count": 7,
     "metadata": {},
     "output_type": "execute_result"
    }
   ],
   "source": [
    "data.rename(\n",
    "    columns={\n",
    "        \"Name\": \"name\",\n",
    "        \"Author\": \"author\",\n",
    "        \"User Rating\": \"user_rating\",\n",
    "        \"Reviews\": \"reviews\",\n",
    "        \"Price\": \"price\",\n",
    "        \"Year\": \"year\",\n",
    "        \"Genre\": \"genre\",\n",
    "    }\n",
    ")\n",
    "data"
   ]
  },
  {
   "cell_type": "markdown",
   "id": "475ace06",
   "metadata": {},
   "source": [
    "### Перевірте, чи у всіх рядків вистачає даних: виведіть кількість пропусків (na) у кожному зі стовпців (використовуйте функції isna та sum)"
   ]
  },
  {
   "cell_type": "code",
   "execution_count": 10,
   "id": "ab678da7",
   "metadata": {},
   "outputs": [
    {
     "data": {
      "text/plain": [
       "name           0\n",
       "author         0\n",
       "user_rating    0\n",
       "reviews        0\n",
       "price          0\n",
       "year           0\n",
       "genre          0\n",
       "dtype: int64"
      ]
     },
     "execution_count": 10,
     "metadata": {},
     "output_type": "execute_result"
    }
   ],
   "source": [
    "data.isna().sum(axis=0)"
   ]
  },
  {
   "cell_type": "markdown",
   "id": "55c0cae3",
   "metadata": {},
   "source": [
    "Відповідь: Чи є в якихось змінних пропуски? (Так / ні) NO"
   ]
  },
  {
   "cell_type": "markdown",
   "id": "f60d6a75",
   "metadata": {},
   "source": [
    "### Перевірте, які є унікальні значення в колонці genre (використовуйте функцію unique) "
   ]
  },
  {
   "cell_type": "code",
   "execution_count": 13,
   "id": "4c74177f",
   "metadata": {},
   "outputs": [
    {
     "data": {
      "text/plain": [
       "array(['Non Fiction', 'Fiction'], dtype=object)"
      ]
     },
     "execution_count": 13,
     "metadata": {},
     "output_type": "execute_result"
    }
   ],
   "source": [
    "data['genre'].unique()"
   ]
  },
  {
   "cell_type": "markdown",
   "id": "ca402ac7",
   "metadata": {},
   "source": [
    "Відповідь: Які є унікальні жанри? 'Non Fiction', 'Fiction'"
   ]
  },
  {
   "cell_type": "markdown",
   "id": "b9f448ff",
   "metadata": {},
   "source": [
    "### Тепер подивіться на розподіл цін: побудуйте діаграму (використовуйте kind='hist')"
   ]
  },
  {
   "cell_type": "code",
   "execution_count": 16,
   "id": "89a61971",
   "metadata": {},
   "outputs": [
    {
     "data": {
      "image/png": "[encoded data removed]",
      "text/plain": [
       "<Figure size 432x288 with 1 Axes>"
      ]
     },
     "metadata": {
      "needs_background": "light"
     },
     "output_type": "display_data"
    }
   ],
   "source": [
    "plot = data.price.plot(kind='hist', bins=30, linewidth=0.5, edgecolor=\"white\", grid=True)\n",
    "\n",
    "plt.show()"
   ]
  },
  {
   "cell_type": "markdown",
   "id": "5f246ffe",
   "metadata": {},
   "source": [
    "### Визначте, яка ціна у нас максимальна, мінімальна, середня, медіанна (використовуйте функції max, min, mean, median)"
   ]
  },
  {
   "cell_type": "code",
   "execution_count": 17,
   "id": "4449fd19",
   "metadata": {},
   "outputs": [
    {
     "name": "stdout",
     "output_type": "stream",
     "text": [
      "MAX: 105\n",
      "MIN: 0\n",
      "MEAN: 13.1\n",
      "MEDIAN: 11.0\n"
     ]
    }
   ],
   "source": [
    "print(f\"MAX: {data.price.max()}\")\n",
    "print(f\"MIN: {data.price.min()}\")\n",
    "print(f\"MEAN: {data.price.mean()}\")\n",
    "print(f\"MEDIAN: {data.price.median()}\")"
   ]
  },
  {
   "cell_type": "markdown",
   "id": "086d7412",
   "metadata": {},
   "source": [
    "#### Який рейтинг у датасеті найвищий? Відповідь: 4.9"
   ]
  },
  {
   "cell_type": "code",
   "execution_count": 18,
   "id": "e290ca10",
   "metadata": {},
   "outputs": [
    {
     "data": {
      "text/plain": [
       "4.9"
      ]
     },
     "execution_count": 18,
     "metadata": {},
     "output_type": "execute_result"
    }
   ],
   "source": [
    "data.user_rating.max()"
   ]
  },
  {
   "cell_type": "markdown",
   "id": "300a2737",
   "metadata": {},
   "source": [
    "#### Скільки книг мають такий рейтинг? Відповідь: 28"
   ]
  },
  {
   "cell_type": "code",
   "execution_count": 28,
   "id": "272668ef",
   "metadata": {},
   "outputs": [
    {
     "data": {
      "text/plain": [
       "(28,)"
      ]
     },
     "execution_count": 28,
     "metadata": {},
     "output_type": "execute_result"
    }
   ],
   "source": [
    "data.name[data.user_rating == data.user_rating.max()].unique().shape\n"
   ]
  },
  {
   "cell_type": "markdown",
   "id": "75ba46db",
   "metadata": {},
   "source": [
    "#### Яка книга має найбільше відгуків? Відповідь: Where the Crawdads Sing\tDelia Owens\t"
   ]
  },
  {
   "cell_type": "code",
   "execution_count": 30,
   "id": "ec7a994c",
   "metadata": {},
   "outputs": [
    {
     "data": {
      "text/html": [
       "<div>\n",
       "<style scoped>\n",
       "    .dataframe tbody tr th:only-of-type {\n",
       "        vertical-align: middle;\n",
       "    }\n",
       "\n",
       "    .dataframe tbody tr th {\n",
       "        vertical-align: top;\n",
       "    }\n",
       "\n",
       "    .dataframe thead th {\n",
       "        text-align: right;\n",
       "    }\n",
       "</style>\n",
       "<table border=\"1\" class=\"dataframe\">\n",
       "  <thead>\n",
       "    <tr style=\"text-align: right;\">\n",
       "      <th></th>\n",
       "      <th>name</th>\n",
       "      <th>author</th>\n",
       "      <th>user_rating</th>\n",
       "      <th>reviews</th>\n",
       "      <th>price</th>\n",
       "      <th>year</th>\n",
       "      <th>genre</th>\n",
       "    </tr>\n",
       "  </thead>\n",
       "  <tbody>\n",
       "    <tr>\n",
       "      <th>534</th>\n",
       "      <td>Where the Crawdads Sing</td>\n",
       "      <td>Delia Owens</td>\n",
       "      <td>4.8</td>\n",
       "      <td>87841</td>\n",
       "      <td>15</td>\n",
       "      <td>2019</td>\n",
       "      <td>Fiction</td>\n",
       "    </tr>\n",
       "  </tbody>\n",
       "</table>\n",
       "</div>"
      ],
      "text/plain": [
       "                        name       author  user_rating  reviews  price  year  \\\n",
       "534  Where the Crawdads Sing  Delia Owens          4.8    87841     15  2019   \n",
       "\n",
       "       genre  \n",
       "534  Fiction  "
      ]
     },
     "execution_count": 30,
     "metadata": {},
     "output_type": "execute_result"
    }
   ],
   "source": [
    "data[data.reviews == data.reviews.max()]"
   ]
  },
  {
   "cell_type": "markdown",
   "id": "3fd4f752",
   "metadata": {},
   "source": [
    "#### З тих книг, що потрапили до Топ-50 у 2015 році, яка книга найдорожча (можна використати проміжний датафрейм)? Відповідь:"
   ]
  },
  {
   "cell_type": "code",
   "execution_count": 38,
   "id": "68462f5e",
   "metadata": {},
   "outputs": [
    {
     "data": {
      "text/html": [
       "<div>\n",
       "<style scoped>\n",
       "    .dataframe tbody tr th:only-of-type {\n",
       "        vertical-align: middle;\n",
       "    }\n",
       "\n",
       "    .dataframe tbody tr th {\n",
       "        vertical-align: top;\n",
       "    }\n",
       "\n",
       "    .dataframe thead th {\n",
       "        text-align: right;\n",
       "    }\n",
       "</style>\n",
       "<table border=\"1\" class=\"dataframe\">\n",
       "  <thead>\n",
       "    <tr style=\"text-align: right;\">\n",
       "      <th></th>\n",
       "      <th>name</th>\n",
       "      <th>author</th>\n",
       "      <th>user_rating</th>\n",
       "      <th>reviews</th>\n",
       "      <th>price</th>\n",
       "      <th>year</th>\n",
       "      <th>genre</th>\n",
       "    </tr>\n",
       "  </thead>\n",
       "  <tbody>\n",
       "    <tr>\n",
       "      <th>277</th>\n",
       "      <td>Publication Manual of the American Psychologic...</td>\n",
       "      <td>American Psychological Association</td>\n",
       "      <td>4.5</td>\n",
       "      <td>8580</td>\n",
       "      <td>46</td>\n",
       "      <td>2015</td>\n",
       "      <td>Non Fiction</td>\n",
       "    </tr>\n",
       "  </tbody>\n",
       "</table>\n",
       "</div>"
      ],
      "text/plain": [
       "                                                  name  \\\n",
       "277  Publication Manual of the American Psychologic...   \n",
       "\n",
       "                                 author  user_rating  reviews  price  year  \\\n",
       "277  American Psychological Association          4.5     8580     46  2015   \n",
       "\n",
       "           genre  \n",
       "277  Non Fiction  "
      ]
     },
     "execution_count": 38,
     "metadata": {},
     "output_type": "execute_result"
    }
   ],
   "source": [
    "data2015 = data[data.year == 2015]\n",
    "res = data2015[(data2015.price == data2015.price.max()) ]\n",
    "res"
   ]
  },
  {
   "cell_type": "markdown",
   "id": "fcc1c091",
   "metadata": {},
   "source": [
    "#### Скільки книг жанру Fiction потрапили до Топ-50 у 2010 році (використовуйте &)? "
   ]
  },
  {
   "cell_type": "code",
   "execution_count": 40,
   "id": "1eb486b9",
   "metadata": {},
   "outputs": [
    {
     "data": {
      "text/plain": [
       "(20, 7)"
      ]
     },
     "execution_count": 40,
     "metadata": {},
     "output_type": "execute_result"
    }
   ],
   "source": [
    "data[(data.year == 2010) & (data.genre == 'Fiction')].shape"
   ]
  },
  {
   "cell_type": "markdown",
   "id": "594b19f1",
   "metadata": {},
   "source": [
    "#### Скільки книг з рейтингом 4.9 потрапило до рейтингу у 2010 та 2011 роках (використовуйте | або функцію isin)? Відповідь:"
   ]
  },
  {
   "cell_type": "code",
   "execution_count": 43,
   "id": "79c24119",
   "metadata": {},
   "outputs": [
    {
     "data": {
      "text/plain": [
       "(1, 7)"
      ]
     },
     "execution_count": 43,
     "metadata": {},
     "output_type": "execute_result"
    }
   ],
   "source": [
    "data[((data.year == 2010) | (data.year == 2011)) & (data.user_rating == 4.9)].shape"
   ]
  },
  {
   "cell_type": "markdown",
   "id": "1ad55ab0",
   "metadata": {},
   "source": [
    "#### І насамкінець, давайте відсортуємо за зростанням ціни всі книги, які потрапили до рейтингу в 2015 році і коштують дешевше за 8 доларів (використовуйте функцію sort_values)."
   ]
  },
  {
   "cell_type": "code",
   "execution_count": 46,
   "id": "ad56fd8a",
   "metadata": {},
   "outputs": [
    {
     "data": {
      "text/plain": [
       "name           To Kill a Mockingbird\n",
       "author                    Harper Lee\n",
       "user_rating                      4.8\n",
       "reviews                        26234\n",
       "price                              0\n",
       "year                            2015\n",
       "genre                        Fiction\n",
       "Name: 507, dtype: object"
      ]
     },
     "execution_count": 46,
     "metadata": {},
     "output_type": "execute_result"
    }
   ],
   "source": [
    "data[(data.year == 2015) & (data.price < 8)].sort_values('price', ascending=False).iloc[-1]"
   ]
  },
  {
   "cell_type": "markdown",
   "id": "a5f8c168",
   "metadata": {},
   "source": [
    "#### Для початку давайте подивимося на максимальну та мінімальну ціни для кожного з жанрів (використовуйте функції groupby та agg, для підрахунку мінімальних та максимальних значень використовуйте max та min). Не беріть усі стовпці, виберіть тільки потрібні вам"
   ]
  },
  {
   "cell_type": "code",
   "execution_count": 48,
   "id": "f885118e",
   "metadata": {},
   "outputs": [
    {
     "data": {
      "text/html": [
       "<div>\n",
       "<style scoped>\n",
       "    .dataframe tbody tr th:only-of-type {\n",
       "        vertical-align: middle;\n",
       "    }\n",
       "\n",
       "    .dataframe tbody tr th {\n",
       "        vertical-align: top;\n",
       "    }\n",
       "\n",
       "    .dataframe thead tr th {\n",
       "        text-align: left;\n",
       "    }\n",
       "</style>\n",
       "<table border=\"1\" class=\"dataframe\">\n",
       "  <thead>\n",
       "    <tr>\n",
       "      <th></th>\n",
       "      <th>genre</th>\n",
       "      <th colspan=\"2\" halign=\"left\">price</th>\n",
       "    </tr>\n",
       "    <tr>\n",
       "      <th></th>\n",
       "      <th></th>\n",
       "      <th>min</th>\n",
       "      <th>max</th>\n",
       "    </tr>\n",
       "  </thead>\n",
       "  <tbody>\n",
       "    <tr>\n",
       "      <th>0</th>\n",
       "      <td>Fiction</td>\n",
       "      <td>0</td>\n",
       "      <td>82</td>\n",
       "    </tr>\n",
       "    <tr>\n",
       "      <th>1</th>\n",
       "      <td>Non Fiction</td>\n",
       "      <td>0</td>\n",
       "      <td>105</td>\n",
       "    </tr>\n",
       "  </tbody>\n",
       "</table>\n",
       "</div>"
      ],
      "text/plain": [
       "         genre price     \n",
       "                 min  max\n",
       "0      Fiction     0   82\n",
       "1  Non Fiction     0  105"
      ]
     },
     "execution_count": 48,
     "metadata": {},
     "output_type": "execute_result"
    }
   ],
   "source": [
    "data1 = data.groupby(\"genre\", as_index=False).agg({\"price\": [\"min\", \"max\"]})\n",
    "data1"
   ]
  },
  {
   "cell_type": "code",
   "execution_count": 49,
   "id": "c4d9e0c8",
   "metadata": {},
   "outputs": [
    {
     "name": "stdout",
     "output_type": "stream",
     "text": [
      "MAX Fiction:82\n",
      "MIN Fiction:  0\n",
      "MAX Non Fiction: 105\n",
      "MIN Non Fiction:  0\n"
     ]
    }
   ],
   "source": [
    "print(f\"MAX Fiction:{data1.loc[0]['price']['max']}\")\n",
    "print(f\"MIN Fiction:  {data1.loc[0]['price']['min']}\")\n",
    "print(f\"MAX Non Fiction: {data1.loc[1]['price']['max']}\")\n",
    "print(f\"MIN Non Fiction:  {data1.loc[1]['price']['min']}\")"
   ]
  },
  {
   "cell_type": "markdown",
   "id": "f554c134",
   "metadata": {},
   "source": [
    "#### Тепер створіть новий датафрейм, який вміщатиме кількість книг для кожного з авторів (використовуйте функції groupby та agg, для підрахунку кількості використовуйте count). Не беріть усі стовпці, виберете тільки потрібні"
   ]
  },
  {
   "cell_type": "code",
   "execution_count": 50,
   "id": "c2d11603",
   "metadata": {},
   "outputs": [
    {
     "data": {
      "text/html": [
       "<div>\n",
       "<style scoped>\n",
       "    .dataframe tbody tr th:only-of-type {\n",
       "        vertical-align: middle;\n",
       "    }\n",
       "\n",
       "    .dataframe tbody tr th {\n",
       "        vertical-align: top;\n",
       "    }\n",
       "\n",
       "    .dataframe thead th {\n",
       "        text-align: right;\n",
       "    }\n",
       "</style>\n",
       "<table border=\"1\" class=\"dataframe\">\n",
       "  <thead>\n",
       "    <tr style=\"text-align: right;\">\n",
       "      <th></th>\n",
       "      <th>author</th>\n",
       "      <th>number_of_book</th>\n",
       "    </tr>\n",
       "  </thead>\n",
       "  <tbody>\n",
       "    <tr>\n",
       "      <th>123</th>\n",
       "      <td>Jill Twiss</td>\n",
       "      <td>1</td>\n",
       "    </tr>\n",
       "    <tr>\n",
       "      <th>178</th>\n",
       "      <td>Patrick Thorpe</td>\n",
       "      <td>1</td>\n",
       "    </tr>\n",
       "    <tr>\n",
       "      <th>109</th>\n",
       "      <td>Ian K. Smith M.D.</td>\n",
       "      <td>1</td>\n",
       "    </tr>\n",
       "    <tr>\n",
       "      <th>108</th>\n",
       "      <td>Howard Stern</td>\n",
       "      <td>1</td>\n",
       "    </tr>\n",
       "    <tr>\n",
       "      <th>107</th>\n",
       "      <td>Hopscotch Girls</td>\n",
       "      <td>1</td>\n",
       "    </tr>\n",
       "    <tr>\n",
       "      <th>...</th>\n",
       "      <td>...</td>\n",
       "      <td>...</td>\n",
       "    </tr>\n",
       "    <tr>\n",
       "      <th>11</th>\n",
       "      <td>American Psychological Association</td>\n",
       "      <td>10</td>\n",
       "    </tr>\n",
       "    <tr>\n",
       "      <th>226</th>\n",
       "      <td>Suzanne Collins</td>\n",
       "      <td>11</td>\n",
       "    </tr>\n",
       "    <tr>\n",
       "      <th>92</th>\n",
       "      <td>Gary Chapman</td>\n",
       "      <td>11</td>\n",
       "    </tr>\n",
       "    <tr>\n",
       "      <th>197</th>\n",
       "      <td>Rick Riordan</td>\n",
       "      <td>11</td>\n",
       "    </tr>\n",
       "    <tr>\n",
       "      <th>120</th>\n",
       "      <td>Jeff Kinney</td>\n",
       "      <td>12</td>\n",
       "    </tr>\n",
       "  </tbody>\n",
       "</table>\n",
       "<p>248 rows × 2 columns</p>\n",
       "</div>"
      ],
      "text/plain": [
       "                                 author  number_of_book\n",
       "123                          Jill Twiss               1\n",
       "178                      Patrick Thorpe               1\n",
       "109                   Ian K. Smith M.D.               1\n",
       "108                        Howard Stern               1\n",
       "107                     Hopscotch Girls               1\n",
       "..                                  ...             ...\n",
       "11   American Psychological Association              10\n",
       "226                     Suzanne Collins              11\n",
       "92                         Gary Chapman              11\n",
       "197                        Rick Riordan              11\n",
       "120                         Jeff Kinney              12\n",
       "\n",
       "[248 rows x 2 columns]"
      ]
     },
     "execution_count": 50,
     "metadata": {},
     "output_type": "execute_result"
    }
   ],
   "source": [
    "data2 = data.groupby(\"author\", as_index=False)\\\n",
    " .agg(number_of_book = ('author', 'count'))\\\n",
    " .sort_values('number_of_book')\n",
    "\n",
    "data2"
   ]
  },
  {
   "cell_type": "markdown",
   "id": "fc9836b7",
   "metadata": {},
   "source": [
    "###### Який автор має найбільше книг? Скільки книг?"
   ]
  },
  {
   "cell_type": "code",
   "execution_count": 52,
   "id": "cea3e721",
   "metadata": {},
   "outputs": [
    {
     "data": {
      "text/html": [
       "<div>\n",
       "<style scoped>\n",
       "    .dataframe tbody tr th:only-of-type {\n",
       "        vertical-align: middle;\n",
       "    }\n",
       "\n",
       "    .dataframe tbody tr th {\n",
       "        vertical-align: top;\n",
       "    }\n",
       "\n",
       "    .dataframe thead th {\n",
       "        text-align: right;\n",
       "    }\n",
       "</style>\n",
       "<table border=\"1\" class=\"dataframe\">\n",
       "  <thead>\n",
       "    <tr style=\"text-align: right;\">\n",
       "      <th></th>\n",
       "      <th>author</th>\n",
       "      <th>number_of_book</th>\n",
       "    </tr>\n",
       "  </thead>\n",
       "  <tbody>\n",
       "    <tr>\n",
       "      <th>120</th>\n",
       "      <td>Jeff Kinney</td>\n",
       "      <td>12</td>\n",
       "    </tr>\n",
       "  </tbody>\n",
       "</table>\n",
       "</div>"
      ],
      "text/plain": [
       "          author  number_of_book\n",
       "120  Jeff Kinney              12"
      ]
     },
     "execution_count": 52,
     "metadata": {},
     "output_type": "execute_result"
    }
   ],
   "source": [
    "data2[data2.number_of_book == data2.number_of_book.max()]"
   ]
  },
  {
   "cell_type": "markdown",
   "id": "23a57b4c",
   "metadata": {},
   "source": [
    "### Тепер створіть другий датафрейм, який буде вміщати середній рейтинг для кожного автора (використовуйте функції groupby та agg, для підрахунку середнього значення використовуйте mean). Не беріть усі стовпці, виберете тільки потрібні"
   ]
  },
  {
   "cell_type": "code",
   "execution_count": 53,
   "id": "4666bfc8",
   "metadata": {},
   "outputs": [
    {
     "data": {
      "text/html": [
       "<div>\n",
       "<style scoped>\n",
       "    .dataframe tbody tr th:only-of-type {\n",
       "        vertical-align: middle;\n",
       "    }\n",
       "\n",
       "    .dataframe tbody tr th {\n",
       "        vertical-align: top;\n",
       "    }\n",
       "\n",
       "    .dataframe thead th {\n",
       "        text-align: right;\n",
       "    }\n",
       "</style>\n",
       "<table border=\"1\" class=\"dataframe\">\n",
       "  <thead>\n",
       "    <tr style=\"text-align: right;\">\n",
       "      <th></th>\n",
       "      <th>author</th>\n",
       "      <th>avg_rating</th>\n",
       "    </tr>\n",
       "  </thead>\n",
       "  <tbody>\n",
       "    <tr>\n",
       "      <th>71</th>\n",
       "      <td>Donna Tartt</td>\n",
       "      <td>3.9</td>\n",
       "    </tr>\n",
       "    <tr>\n",
       "      <th>100</th>\n",
       "      <td>Gillian Flynn</td>\n",
       "      <td>4.0</td>\n",
       "    </tr>\n",
       "    <tr>\n",
       "      <th>171</th>\n",
       "      <td>Muriel Barbery</td>\n",
       "      <td>4.0</td>\n",
       "    </tr>\n",
       "    <tr>\n",
       "      <th>90</th>\n",
       "      <td>Gallup</td>\n",
       "      <td>4.0</td>\n",
       "    </tr>\n",
       "    <tr>\n",
       "      <th>109</th>\n",
       "      <td>Ian K. Smith M.D.</td>\n",
       "      <td>4.1</td>\n",
       "    </tr>\n",
       "    <tr>\n",
       "      <th>...</th>\n",
       "      <td>...</td>\n",
       "      <td>...</td>\n",
       "    </tr>\n",
       "    <tr>\n",
       "      <th>146</th>\n",
       "      <td>Lin-Manuel Miranda</td>\n",
       "      <td>4.9</td>\n",
       "    </tr>\n",
       "    <tr>\n",
       "      <th>178</th>\n",
       "      <td>Patrick Thorpe</td>\n",
       "      <td>4.9</td>\n",
       "    </tr>\n",
       "    <tr>\n",
       "      <th>173</th>\n",
       "      <td>Nathan W. Pyle</td>\n",
       "      <td>4.9</td>\n",
       "    </tr>\n",
       "    <tr>\n",
       "      <th>26</th>\n",
       "      <td>Bill Martin Jr.</td>\n",
       "      <td>4.9</td>\n",
       "    </tr>\n",
       "    <tr>\n",
       "      <th>123</th>\n",
       "      <td>Jill Twiss</td>\n",
       "      <td>4.9</td>\n",
       "    </tr>\n",
       "  </tbody>\n",
       "</table>\n",
       "<p>248 rows × 2 columns</p>\n",
       "</div>"
      ],
      "text/plain": [
       "                 author  avg_rating\n",
       "71          Donna Tartt         3.9\n",
       "100       Gillian Flynn         4.0\n",
       "171      Muriel Barbery         4.0\n",
       "90               Gallup         4.0\n",
       "109   Ian K. Smith M.D.         4.1\n",
       "..                  ...         ...\n",
       "146  Lin-Manuel Miranda         4.9\n",
       "178      Patrick Thorpe         4.9\n",
       "173      Nathan W. Pyle         4.9\n",
       "26      Bill Martin Jr.         4.9\n",
       "123          Jill Twiss         4.9\n",
       "\n",
       "[248 rows x 2 columns]"
      ]
     },
     "execution_count": 53,
     "metadata": {},
     "output_type": "execute_result"
    }
   ],
   "source": [
    "data3= data.groupby(\"author\", as_index=False)\\\n",
    "    .agg(avg_rating = (\"user_rating\", \"mean\"))\\\n",
    "    .sort_values(\"avg_rating\")\n",
    "data3"
   ]
  },
  {
   "cell_type": "markdown",
   "id": "1988fd1a",
   "metadata": {},
   "source": [
    "####  У якого автора середній рейтинг мінімальний? Який у цього автора середній рейтинг?"
   ]
  },
  {
   "cell_type": "code",
   "execution_count": 54,
   "id": "ae1ddd51",
   "metadata": {},
   "outputs": [
    {
     "data": {
      "text/html": [
       "<div>\n",
       "<style scoped>\n",
       "    .dataframe tbody tr th:only-of-type {\n",
       "        vertical-align: middle;\n",
       "    }\n",
       "\n",
       "    .dataframe tbody tr th {\n",
       "        vertical-align: top;\n",
       "    }\n",
       "\n",
       "    .dataframe thead th {\n",
       "        text-align: right;\n",
       "    }\n",
       "</style>\n",
       "<table border=\"1\" class=\"dataframe\">\n",
       "  <thead>\n",
       "    <tr style=\"text-align: right;\">\n",
       "      <th></th>\n",
       "      <th>author</th>\n",
       "      <th>avg_rating</th>\n",
       "    </tr>\n",
       "  </thead>\n",
       "  <tbody>\n",
       "    <tr>\n",
       "      <th>71</th>\n",
       "      <td>Donna Tartt</td>\n",
       "      <td>3.9</td>\n",
       "    </tr>\n",
       "  </tbody>\n",
       "</table>\n",
       "</div>"
      ],
      "text/plain": [
       "         author  avg_rating\n",
       "71  Donna Tartt         3.9"
      ]
     },
     "execution_count": 54,
     "metadata": {},
     "output_type": "execute_result"
    }
   ],
   "source": [
    "data3[data3.avg_rating == data3.avg_rating.min()]"
   ]
  },
  {
   "cell_type": "markdown",
   "id": "bcde6302",
   "metadata": {},
   "source": [
    "### З'єднайте останні два датафрейми так, щоб для кожного автора було видно кількість книг та середній рейтинг (Використовуйте функцію concat з параметром axis=1). Збережіть результат у змінну"
   ]
  },
  {
   "cell_type": "code",
   "execution_count": 58,
   "id": "7c7e2ac7",
   "metadata": {},
   "outputs": [
    {
     "data": {
      "text/html": [
       "<div>\n",
       "<style scoped>\n",
       "    .dataframe tbody tr th:only-of-type {\n",
       "        vertical-align: middle;\n",
       "    }\n",
       "\n",
       "    .dataframe tbody tr th {\n",
       "        vertical-align: top;\n",
       "    }\n",
       "\n",
       "    .dataframe thead th {\n",
       "        text-align: right;\n",
       "    }\n",
       "</style>\n",
       "<table border=\"1\" class=\"dataframe\">\n",
       "  <thead>\n",
       "    <tr style=\"text-align: right;\">\n",
       "      <th></th>\n",
       "      <th>author</th>\n",
       "      <th>number_of_book</th>\n",
       "      <th>avg_rating</th>\n",
       "    </tr>\n",
       "  </thead>\n",
       "  <tbody>\n",
       "    <tr>\n",
       "      <th>0</th>\n",
       "      <td>Abraham Verghese</td>\n",
       "      <td>2</td>\n",
       "      <td>4.600000</td>\n",
       "    </tr>\n",
       "    <tr>\n",
       "      <th>1</th>\n",
       "      <td>Adam Gasiewski</td>\n",
       "      <td>1</td>\n",
       "      <td>4.400000</td>\n",
       "    </tr>\n",
       "    <tr>\n",
       "      <th>2</th>\n",
       "      <td>Adam Mansbach</td>\n",
       "      <td>1</td>\n",
       "      <td>4.800000</td>\n",
       "    </tr>\n",
       "    <tr>\n",
       "      <th>3</th>\n",
       "      <td>Adir Levy</td>\n",
       "      <td>1</td>\n",
       "      <td>4.800000</td>\n",
       "    </tr>\n",
       "    <tr>\n",
       "      <th>4</th>\n",
       "      <td>Admiral William H. McRaven</td>\n",
       "      <td>1</td>\n",
       "      <td>4.700000</td>\n",
       "    </tr>\n",
       "    <tr>\n",
       "      <th>...</th>\n",
       "      <td>...</td>\n",
       "      <td>...</td>\n",
       "      <td>...</td>\n",
       "    </tr>\n",
       "    <tr>\n",
       "      <th>243</th>\n",
       "      <td>Walter Isaacson</td>\n",
       "      <td>3</td>\n",
       "      <td>4.566667</td>\n",
       "    </tr>\n",
       "    <tr>\n",
       "      <th>244</th>\n",
       "      <td>William Davis</td>\n",
       "      <td>2</td>\n",
       "      <td>4.400000</td>\n",
       "    </tr>\n",
       "    <tr>\n",
       "      <th>245</th>\n",
       "      <td>William P. Young</td>\n",
       "      <td>2</td>\n",
       "      <td>4.600000</td>\n",
       "    </tr>\n",
       "    <tr>\n",
       "      <th>246</th>\n",
       "      <td>Wizards RPG Team</td>\n",
       "      <td>3</td>\n",
       "      <td>4.800000</td>\n",
       "    </tr>\n",
       "    <tr>\n",
       "      <th>247</th>\n",
       "      <td>Zhi Gang Sha</td>\n",
       "      <td>2</td>\n",
       "      <td>4.600000</td>\n",
       "    </tr>\n",
       "  </tbody>\n",
       "</table>\n",
       "<p>248 rows × 3 columns</p>\n",
       "</div>"
      ],
      "text/plain": [
       "                         author  number_of_book  avg_rating\n",
       "0              Abraham Verghese               2    4.600000\n",
       "1                Adam Gasiewski               1    4.400000\n",
       "2                 Adam Mansbach               1    4.800000\n",
       "3                     Adir Levy               1    4.800000\n",
       "4    Admiral William H. McRaven               1    4.700000\n",
       "..                          ...             ...         ...\n",
       "243             Walter Isaacson               3    4.566667\n",
       "244               William Davis               2    4.400000\n",
       "245            William P. Young               2    4.600000\n",
       "246            Wizards RPG Team               3    4.800000\n",
       "247                Zhi Gang Sha               2    4.600000\n",
       "\n",
       "[248 rows x 3 columns]"
      ]
     },
     "execution_count": 58,
     "metadata": {},
     "output_type": "execute_result"
    }
   ],
   "source": [
    "data_m = pd.concat([data2, data3.avg_rating], axis=1)\n",
    "data_m"
   ]
  },
  {
   "cell_type": "markdown",
   "id": "65c9d955",
   "metadata": {},
   "source": [
    "### Відсортуйте датафрейм за зростаючою кількістю книг та зростаючим рейтингом (використовуйте функцію sort_values)"
   ]
  },
  {
   "cell_type": "code",
   "execution_count": 59,
   "id": "236aacbd",
   "metadata": {},
   "outputs": [
    {
     "data": {
      "text/html": [
       "<div>\n",
       "<style scoped>\n",
       "    .dataframe tbody tr th:only-of-type {\n",
       "        vertical-align: middle;\n",
       "    }\n",
       "\n",
       "    .dataframe tbody tr th {\n",
       "        vertical-align: top;\n",
       "    }\n",
       "\n",
       "    .dataframe thead th {\n",
       "        text-align: right;\n",
       "    }\n",
       "</style>\n",
       "<table border=\"1\" class=\"dataframe\">\n",
       "  <thead>\n",
       "    <tr style=\"text-align: right;\">\n",
       "      <th></th>\n",
       "      <th>author</th>\n",
       "      <th>number_of_book</th>\n",
       "      <th>avg_rating</th>\n",
       "    </tr>\n",
       "  </thead>\n",
       "  <tbody>\n",
       "    <tr>\n",
       "      <th>120</th>\n",
       "      <td>Jeff Kinney</td>\n",
       "      <td>12</td>\n",
       "      <td>4.800000</td>\n",
       "    </tr>\n",
       "    <tr>\n",
       "      <th>197</th>\n",
       "      <td>Rick Riordan</td>\n",
       "      <td>11</td>\n",
       "      <td>4.772727</td>\n",
       "    </tr>\n",
       "    <tr>\n",
       "      <th>92</th>\n",
       "      <td>Gary Chapman</td>\n",
       "      <td>11</td>\n",
       "      <td>4.736364</td>\n",
       "    </tr>\n",
       "    <tr>\n",
       "      <th>226</th>\n",
       "      <td>Suzanne Collins</td>\n",
       "      <td>11</td>\n",
       "      <td>4.663636</td>\n",
       "    </tr>\n",
       "    <tr>\n",
       "      <th>11</th>\n",
       "      <td>American Psychological Association</td>\n",
       "      <td>10</td>\n",
       "      <td>4.500000</td>\n",
       "    </tr>\n",
       "    <tr>\n",
       "      <th>...</th>\n",
       "      <td>...</td>\n",
       "      <td>...</td>\n",
       "      <td>...</td>\n",
       "    </tr>\n",
       "    <tr>\n",
       "      <th>198</th>\n",
       "      <td>Rob Bell</td>\n",
       "      <td>1</td>\n",
       "      <td>4.200000</td>\n",
       "    </tr>\n",
       "    <tr>\n",
       "      <th>43</th>\n",
       "      <td>Chris Cleave</td>\n",
       "      <td>1</td>\n",
       "      <td>4.100000</td>\n",
       "    </tr>\n",
       "    <tr>\n",
       "      <th>109</th>\n",
       "      <td>Ian K. Smith M.D.</td>\n",
       "      <td>1</td>\n",
       "      <td>4.100000</td>\n",
       "    </tr>\n",
       "    <tr>\n",
       "      <th>186</th>\n",
       "      <td>Pierre Dukan</td>\n",
       "      <td>1</td>\n",
       "      <td>4.100000</td>\n",
       "    </tr>\n",
       "    <tr>\n",
       "      <th>171</th>\n",
       "      <td>Muriel Barbery</td>\n",
       "      <td>1</td>\n",
       "      <td>4.000000</td>\n",
       "    </tr>\n",
       "  </tbody>\n",
       "</table>\n",
       "<p>248 rows × 3 columns</p>\n",
       "</div>"
      ],
      "text/plain": [
       "                                 author  number_of_book  avg_rating\n",
       "120                         Jeff Kinney              12    4.800000\n",
       "197                        Rick Riordan              11    4.772727\n",
       "92                         Gary Chapman              11    4.736364\n",
       "226                     Suzanne Collins              11    4.663636\n",
       "11   American Psychological Association              10    4.500000\n",
       "..                                  ...             ...         ...\n",
       "198                            Rob Bell               1    4.200000\n",
       "43                         Chris Cleave               1    4.100000\n",
       "109                   Ian K. Smith M.D.               1    4.100000\n",
       "186                        Pierre Dukan               1    4.100000\n",
       "171                      Muriel Barbery               1    4.000000\n",
       "\n",
       "[248 rows x 3 columns]"
      ]
     },
     "execution_count": 59,
     "metadata": {},
     "output_type": "execute_result"
    }
   ],
   "source": [
    "data_m.sort_values(['number_of_book', 'avg_rating'], ascending=False, inplace=True)\n",
    "data_m"
   ]
  },
  {
   "cell_type": "markdown",
   "id": "e99e486a",
   "metadata": {},
   "source": [
    "# Графік "
   ]
  },
  {
   "cell_type": "code",
   "execution_count": 62,
   "id": "282cf3fd",
   "metadata": {},
   "outputs": [
    {
     "data": {
      "image/png": "[encoded data removed]",
      "text/plain": [
       "<Figure size 432x288 with 1 Axes>"
      ]
     },
     "metadata": {
      "needs_background": "light"
     },
     "output_type": "display_data"
    }
   ],
   "source": [
    "fiction_data = data[data['genre'] == 'Fiction']\n",
    "nonfiction_data = data[data['genre'] == 'Non Fiction']\n",
    "\n",
    "fiction_ratings_by_year = fiction_data.groupby('year')['user_rating'].mean()\n",
    "nonfiction_ratings_by_year = nonfiction_data.groupby('year')['user_rating'].mean()\n",
    "\n",
    "plt.plot(fiction_ratings_by_year.index, fiction_ratings_by_year.values, label='Fiction')\n",
    "plt.plot(nonfiction_ratings_by_year.index, nonfiction_ratings_by_year.values, label='Non Fiction')\n",
    "plt.xlabel('Year')\n",
    "plt.ylabel('Average Rating')\n",
    "plt.title('Average Book Ratings by Genre and Year')\n",
    "plt.legend()\n",
    "plt.show()"
   ]
  },
  {
   "cell_type": "code",
   "execution_count": 63,
   "id": "a7f4306a",
   "metadata": {},
   "outputs": [
    {
     "data": {
      "image/png": "[encoded data removed]",
      "text/plain": [
       "<Figure size 432x288 with 1 Axes>"
      ]
     },
     "metadata": {
      "needs_background": "light"
     },
     "output_type": "display_data"
    }
   ],
   "source": [
    "reviews_by_year = data.groupby('year')['reviews'].sum()\n",
    "\n",
    "plt.bar(reviews_by_year.index, reviews_by_year.values)\n",
    "plt.xlabel('Year')\n",
    "plt.ylabel('Total Reviews')\n",
    "plt.title('Total Reviews of Books by Year')\n",
    "plt.show()"
   ]
  },
  {
   "cell_type": "code",
   "execution_count": 65,
   "id": "b522ea2c",
   "metadata": {},
   "outputs": [
    {
     "data": {
      "image/png": "[encoded data removed]",
      "text/plain": [
       "<Figure size 432x288 with 1 Axes>"
      ]
     },
     "metadata": {},
     "output_type": "display_data"
    }
   ],
   "source": [
    "genre_counts = data['genre'].value_counts()\n",
    "\n",
    "plt.pie(genre_counts.values, labels=genre_counts.index, autopct='%1.1f%%')\n",
    "plt.title('Genre Distribution of Books')\n",
    "plt.axis('equal')\n",
    "plt.show()"
   ]
  }
 ],
 "metadata": {
  "kernelspec": {
   "display_name": "Python 3 (ipykernel)",
   "language": "python",
   "name": "python3"
  },
  "language_info": {
   "codemirror_mode": {
    "name": "ipython",
    "version": 3
   },
   "file_extension": ".py",
   "mimetype": "text/x-python",
   "name": "python",
   "nbconvert_exporter": "python",
   "pygments_lexer": "ipython3",
   "version": "3.9.7"
  }
 },
 "nbformat": 4,
 "nbformat_minor": 5
}
